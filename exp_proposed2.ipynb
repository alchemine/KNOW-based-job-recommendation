{
 "cells": [
  {
   "cell_type": "markdown",
   "id": "d73d14ca",
   "metadata": {},
   "source": [
    "# Proposed idea2\n",
    "1. Preprocess `X`\n",
    "2. Label propagation unlabeled `y(=9999999)` using `OPTICS`"
   ]
  },
  {
   "cell_type": "markdown",
   "id": "66221ab2",
   "metadata": {},
   "source": [
    "# Import packages"
   ]
  },
  {
   "cell_type": "code",
   "execution_count": 1,
   "id": "b221e0c1",
   "metadata": {},
   "outputs": [],
   "source": [
    "from analysis_tools.common import *\n",
    "\n",
    "%load_ext autoreload\n",
    "%autoreload 2\n",
    "\n",
    "np.random.seed(RANDOM_STATE)"
   ]
  },
  {
   "cell_type": "markdown",
   "id": "b4df5169",
   "metadata": {},
   "source": [
    "# 2017년 데이터"
   ]
  },
  {
   "cell_type": "markdown",
   "id": "ed1a8956",
   "metadata": {},
   "source": [
    "# 1. Load dataset"
   ]
  },
  {
   "cell_type": "code",
   "execution_count": 2,
   "id": "588cbc49",
   "metadata": {},
   "outputs": [
    {
     "data": {
      "text/plain": [
       "((7114, 154),\n",
       " (7114,),\n",
       " (7114, 538),\n",
       " (2372, 154),\n",
       " (2372,),\n",
       " (2372, 538),\n",
       " (9486, 154))"
      ]
     },
     "execution_count": 2,
     "metadata": {},
     "output_type": "execute_result"
    }
   ],
   "source": [
    "from sklearn.model_selection import train_test_split\n",
    "from sklearn.preprocessing import OneHotEncoder\n",
    "\n",
    "train_full_data = pd.read_csv(join(PATH.TRAIN, 'KNOW_2017.csv'), index_col=0)\n",
    "X_test          = pd.read_csv(join(PATH.TEST, 'KNOW_2017_test.csv'), index_col=0)\n",
    "target          = 'knowcode'\n",
    "\n",
    "train_full_data_ = copy(train_full_data)\n",
    "X_train_full = train_full_data.drop(columns=target)\n",
    "y_train_full = train_full_data[target]\n",
    "\n",
    "X_train, X_val, y_train, y_val = train_test_split(X_train_full, y_train_full, stratify=y_train_full)\n",
    "\n",
    "oh_enc     = OneHotEncoder(sparse=False)\n",
    "y_train_oh = oh_enc.fit_transform(y_train[:, None])\n",
    "y_val_oh   = oh_enc.transform(y_val[:, None])\n",
    "\n",
    "X_train.shape, y_train.shape, y_train_oh.shape, X_val.shape, y_val.shape, y_val_oh.shape, X_test.shape"
   ]
  },
  {
   "cell_type": "markdown",
   "id": "fb3831c0",
   "metadata": {},
   "source": [
    "# 2. Preprocessing"
   ]
  },
  {
   "cell_type": "code",
   "execution_count": 3,
   "id": "201f2684",
   "metadata": {},
   "outputs": [],
   "source": [
    "from analysis_tools.preprocessing import *"
   ]
  },
  {
   "cell_type": "code",
   "execution_count": 4,
   "id": "58fc7e13",
   "metadata": {},
   "outputs": [
    {
     "name": "stdout",
     "output_type": "stream",
     "text": [
      "X_train (7114, 154)\n",
      "y_train (7114,)\n",
      "X_val (2372, 154)\n",
      "y_val (2372,)\n",
      "X_test (9486, 154)\n"
     ]
    }
   ],
   "source": [
    "preprocessor_baseline = get_preprocessor_baseline()\n",
    "data_baseline = dict(\n",
    "    X_train=preprocessor_baseline.fit_transform(X_train),\n",
    "    y_train=y_train,\n",
    "    X_val=preprocessor_baseline.transform(X_val),\n",
    "    y_val=y_val,\n",
    "    X_test=preprocessor_baseline.transform(X_test)\n",
    ")\n",
    "for k, v in data_baseline.items():\n",
    "    print(k, v.shape)"
   ]
  },
  {
   "cell_type": "code",
   "execution_count": 5,
   "id": "911aba42",
   "metadata": {},
   "outputs": [
    {
     "name": "stdout",
     "output_type": "stream",
     "text": [
      "X_train (7114, 261)\n",
      "y_train (7114,)\n",
      "X_val (2372, 261)\n",
      "y_val (2372,)\n",
      "X_test (9486, 261)\n"
     ]
    }
   ],
   "source": [
    "preprocessor1 = get_preprocessor1()\n",
    "data1 = dict(\n",
    "    X_train=preprocessor1.fit_transform(X_train),\n",
    "    y_train=y_train,\n",
    "    X_val=preprocessor1.transform(X_val),\n",
    "    y_val=y_val,\n",
    "    X_test=preprocessor1.transform(X_test)\n",
    ")\n",
    "for k, v in data1.items():\n",
    "    print(k, v.shape)"
   ]
  },
  {
   "cell_type": "markdown",
   "id": "cadec211",
   "metadata": {},
   "source": [
    "## 2.1 Label propagation"
   ]
  },
  {
   "cell_type": "code",
   "execution_count": null,
   "id": "308247d3",
   "metadata": {},
   "outputs": [],
   "source": [
    "def preprocess2_y(X, y):\n",
    "    idxs_unknown_label = y[y == 9999999].index\n",
    "    X_unknown = X.loc[idxs_unknown_label]  # deepcopy\n",
    "    y_unknown = y.loc[idxs_unknown_label]\n",
    "    \n",
    "    model = OPTICS(n_jobs=-1)\n",
    "    model.fit(X_unknown)\n",
    "    preds = model.fit_predict(X_unknown)\n",
    "    \n",
    "    # Allocate label\n",
    "    for label in pd.value_counts(model.labels_).index:\n",
    "        if label > -1:\n",
    "            y_unknown.iloc[np.where(preds == label)[0]] = int(f\"9999999{label}\")\n",
    "\n",
    "    # Process anomalies\n",
    "    idxs_anomaly = np.where(model.labels_ == -1)[0]\n",
    "    for idx, idx_anomaly in enumerate(idxs_anomaly, start=1):\n",
    "        y_unknown.iloc[idx_anomaly] = int(f\"-9999999{idx}\")\n",
    "\n",
    "    # Process return\n",
    "    y_return = copy(y)\n",
    "    y_return.loc[idxs_unknown_label] = y_unknown\n",
    "    return y_return.astype('category')\n",
    "\n",
    "def postprocess2_y(y):\n",
    "    return pd.DataFrame(y, dtype=str).replace(\"^.*9999999.*$\", \"9999999\", regex=True).astype('category')\n",
    "\n",
    "y = preprocess2_y(data1['X_train'], y_train)\n",
    "y"
   ]
  },
  {
   "cell_type": "code",
   "execution_count": 7,
   "id": "3ba3ea4b",
   "metadata": {},
   "outputs": [
    {
     "name": "stdout",
     "output_type": "stream",
     "text": [
      "X_train (7114, 261)\n",
      "y_train (7114,)\n",
      "X_val (2372, 261)\n",
      "y_val (2372,)\n",
      "X_test (9486, 261)\n"
     ]
    }
   ],
   "source": [
    "data2 = {}\n",
    "data2['X_train'] = preprocessor1.fit_transform(X_train)\n",
    "data2['y_train'] = preprocess2_y(data2['X_train'], y_train)\n",
    "data2['X_val']   = preprocessor1.transform(X_val)\n",
    "data2['y_val']   = y_val\n",
    "data2['X_test']  = preprocessor1.transform(X_test)\n",
    "\n",
    "for k, v in data1.items():\n",
    "    print(k, v.shape)"
   ]
  },
  {
   "cell_type": "markdown",
   "id": "42b33ed1",
   "metadata": {},
   "source": [
    "# 3. Training & evaluation"
   ]
  },
  {
   "cell_type": "code",
   "execution_count": 25,
   "id": "c636ad64",
   "metadata": {},
   "outputs": [
    {
     "name": "stdout",
     "output_type": "stream",
     "text": [
      "- baseline | Train: 1.00 | Val: 0.41727582904140587\n",
      "- proposed1 | Train: 1.00 | Val: 0.553692466942369\n",
      "- proposed2 | Train: 1.00 | Val: 0.5660168113449305\n",
      "CPU times: user 6min, sys: 58.4 s, total: 6min 58s\n",
      "Wall time: 39.8 s\n"
     ]
    }
   ],
   "source": [
    "%%time\n",
    "from sklearn.ensemble import RandomForestClassifier\n",
    "from sklearn.metrics import f1_score\n",
    "\n",
    "model = RandomForestClassifier(n_estimators=700, n_jobs=-1, random_state=RANDOM_STATE)\n",
    "for name, data in zip(['baseline', 'proposed1', 'proposed2'], [data_baseline, data1, data2]):\n",
    "    X_t, y_t = data['X_train'], data['y_train']\n",
    "    X_v, y_v = data['X_val'], data['y_val']\n",
    "\n",
    "    model.fit(X_t, y_t)\n",
    "    p_t = model.predict(X_t)\n",
    "    p_v = model.predict(X_v)\n",
    "    \n",
    "    if name == 'proposed2':\n",
    "        y_t = postprocess2_y(y_t)\n",
    "        y_v = postprocess2_y(y_v)\n",
    "        p_t = postprocess2_y(p_t)\n",
    "        p_v = postprocess2_y(p_v)\n",
    "\n",
    "    print(f\"- {name} | Train: {f1_score(y_t, p_t, average='macro'):.2f} | Val: {f1_score(y_v, p_v, average='macro')}\")"
   ]
  }
 ],
 "metadata": {
  "kernelspec": {
   "display_name": "Python 3",
   "language": "python",
   "name": "python3"
  },
  "language_info": {
   "codemirror_mode": {
    "name": "ipython",
    "version": 3
   },
   "file_extension": ".py",
   "mimetype": "text/x-python",
   "name": "python",
   "nbconvert_exporter": "python",
   "pygments_lexer": "ipython3",
   "version": "3.8.12"
  }
 },
 "nbformat": 4,
 "nbformat_minor": 5
}
